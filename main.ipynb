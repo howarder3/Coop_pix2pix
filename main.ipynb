{
 "cells": [
  {
   "cell_type": "code",
   "execution_count": null,
   "metadata": {},
   "outputs": [],
   "source": [
    "import tensorflow as tf\n",
    "import os\n",
    "\n",
    "from model import Cooppix2pix\n",
    "\n",
    "\n",
    "tf.app.flags.DEFINE_integer('epoch',200,'how many epochs to train')\n",
    "\n",
    "# folder position\n",
    "tf.app.flags.DEFINE_string('checkpoint_dir','./checkpoint_dir', 'models save here')\n",
    "tf.app.flags.DEFINE_string('sample_dir','./sample_dir', 'samples save here')\n",
    "tf.app.flags.DEFINE_string('test_dir','./test_dir','test samples save here')\n",
    "\n",
    "\n",
    "FLAGS = tf.app.flags.FLAGS\n",
    "\n",
    "\n",
    "\n",
    "\n",
    "\n",
    "args = parser.parse_args()\n",
    "\n",
    "\n",
    "def main(_):\n",
    "\tif not os.path.exists(args.checkpoint_dir):\n",
    "\t\tos.makedirs(args.checkpoint_dir)\n",
    "\t\tif not os.path.exists(args.sample_dir):\n",
    "\t\t\tos.makedirs(args.sample_dir)\n",
    "\t\t\tif not os.path.exists(args.test_dir):\n",
    "\t\t\t\tos.makedirs(args.test_dir)\n",
    "\t\t\t\tprint(\"test\")\n",
    "\n",
    "\n",
    "# program start here\n",
    "if __name__ == '__main__':\n",
    "\ttf.app.run()\n",
    "\n",
    "\n",
    "\n",
    "\n",
    "\n",
    "'''\n",
    "D:\n",
    "cd D:\\test\\mycode\n",
    "python main.py\n",
    "'''\n",
    "\n"
   ]
  }
 ],
 "metadata": {
  "kernelspec": {
   "display_name": "Python 3",
   "language": "python",
   "name": "python3"
  },
  "language_info": {
   "codemirror_mode": {
    "name": "ipython",
    "version": 3
   },
   "file_extension": ".py",
   "mimetype": "text/x-python",
   "name": "python",
   "nbconvert_exporter": "python",
   "pygments_lexer": "ipython3",
   "version": "3.6.3"
  },
  "varInspector": {
   "cols": {
    "lenName": 16,
    "lenType": 16,
    "lenVar": 40
   },
   "kernels_config": {
    "python": {
     "delete_cmd_postfix": "",
     "delete_cmd_prefix": "del ",
     "library": "var_list.py",
     "varRefreshCmd": "print(var_dic_list())"
    },
    "r": {
     "delete_cmd_postfix": ") ",
     "delete_cmd_prefix": "rm(",
     "library": "var_list.r",
     "varRefreshCmd": "cat(var_dic_list()) "
    }
   },
   "types_to_exclude": [
    "module",
    "function",
    "builtin_function_or_method",
    "instance",
    "_Feature"
   ],
   "window_display": false
  }
 },
 "nbformat": 4,
 "nbformat_minor": 2
}
